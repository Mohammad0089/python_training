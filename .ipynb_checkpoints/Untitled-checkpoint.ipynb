{
 "cells": [
  {
   "cell_type": "code",
   "execution_count": 1,
   "id": "75c425f9",
   "metadata": {},
   "outputs": [
    {
     "name": "stdout",
     "output_type": "stream",
     "text": [
      "64\n",
      "<class 'int'>\n"
     ]
    }
   ],
   "source": [
    "li = [11,25,64,4]\n",
    "\n",
    "print(max(li))\n",
    "\n",
    "print(type(max(li)))"
   ]
  },
  {
   "cell_type": "code",
   "execution_count": 2,
   "id": "f29b2d3c",
   "metadata": {},
   "outputs": [
    {
     "name": "stdout",
     "output_type": "stream",
     "text": [
      "3 1000\n",
      "2 5 4\n",
      "3 7 8 9 \n",
      "5 5 7 8 9 10\n"
     ]
    },
    {
     "data": {
      "text/plain": [
       "str"
      ]
     },
     "execution_count": 2,
     "metadata": {},
     "output_type": "execute_result"
    }
   ],
   "source": [
    "lines =\"\"\"3 1000\n",
    "2 5 4\n",
    "3 7 8 9 \n",
    "5 5 7 8 9 10\"\"\"\n",
    "\n",
    "print(lines) \n",
    "type(lines)"
   ]
  },
  {
   "cell_type": "code",
   "execution_count": 3,
   "id": "0f3376cb",
   "metadata": {},
   "outputs": [
    {
     "name": "stdout",
     "output_type": "stream",
     "text": [
      "['3 1000', '2 5 4', '3 7 8 9 ', '5 5 7 8 9 10']\n",
      "4\n"
     ]
    },
    {
     "data": {
      "text/plain": [
       "list"
      ]
     },
     "execution_count": 3,
     "metadata": {},
     "output_type": "execute_result"
    }
   ],
   "source": [
    "list1 =lines.split('\\n')\n",
    "print(list1)\n",
    "print(len(list1))\n",
    "type(list1)\n"
   ]
  },
  {
   "cell_type": "code",
   "execution_count": 4,
   "id": "4a75b54e",
   "metadata": {},
   "outputs": [
    {
     "data": {
      "text/plain": [
       "[['3', '1000'],\n",
       " ['2', '5', '4'],\n",
       " ['3', '7', '8', '9', ''],\n",
       " ['5', '5', '7', '8', '9', '10']]"
      ]
     },
     "execution_count": 4,
     "metadata": {},
     "output_type": "execute_result"
    }
   ],
   "source": [
    "\n",
    "list2D = []\n",
    "for row in range(len(list1)):\n",
    "    new_row = []\n",
    "    new_row = list1[row].split(' ')\n",
    "    list2D.append(new_row)\n",
    "\n",
    "list2D\n",
    "    "
   ]
  },
  {
   "cell_type": "code",
   "execution_count": 5,
   "id": "5c002841",
   "metadata": {},
   "outputs": [
    {
     "data": {
      "text/plain": [
       "206"
      ]
     },
     "execution_count": 5,
     "metadata": {},
     "output_type": "execute_result"
    }
   ],
   "source": [
    "x = 25+81+100\n",
    "x"
   ]
  },
  {
   "cell_type": "code",
   "execution_count": 6,
   "id": "3c1137eb",
   "metadata": {},
   "outputs": [
    {
     "data": {
      "text/plain": [
       "10"
      ]
     },
     "execution_count": 6,
     "metadata": {},
     "output_type": "execute_result"
    }
   ],
   "source": [
    "import functools\n",
    "\n",
    "new_row = [5, 5, 7, 10,8, 9]\n",
    "temp = functools.reduce(lambda x , y : x if x > y else y, new_row)\n",
    "\n",
    "temp\n"
   ]
  },
  {
   "cell_type": "code",
   "execution_count": 85,
   "id": "d994f4cb",
   "metadata": {},
   "outputs": [
    {
     "name": "stdout",
     "output_type": "stream",
     "text": [
      "5 6\n"
     ]
    }
   ],
   "source": [
    "K, M = map(int, input().split())"
   ]
  },
  {
   "cell_type": "code",
   "execution_count": 8,
   "id": "7dd1922c",
   "metadata": {},
   "outputs": [
    {
     "data": {
      "text/plain": [
       "[(1, 5), (1, 6), (1, 7), (2, 5), (2, 6), (2, 7), (3, 5), (3, 6), (3, 7)]"
      ]
     },
     "execution_count": 8,
     "metadata": {},
     "output_type": "execute_result"
    }
   ],
   "source": [
    "import itertools\n",
    "\n",
    "list1 = [1,2,3]\n",
    "list2 = [5,6,7] \n",
    "\n",
    "result = list(itertools.product(list1,list2))\n",
    "result\n",
    "\n",
    "\n"
   ]
  },
  {
   "cell_type": "code",
   "execution_count": 9,
   "id": "e02d2bdf",
   "metadata": {},
   "outputs": [
    {
     "name": "stdout",
     "output_type": "stream",
     "text": [
      "[['s', 'a', 't'], ['b', 'a', 't'], ['c', 'a', 't'], ['m', 'a', 't']]\n"
     ]
    }
   ],
   "source": [
    "# List of strings\n",
    "l = ['sat', 'bat', 'cat', 'mat']\n",
    "  \n",
    "# map() can listify the list of strings individually\n",
    "test = list(map(list, l))\n",
    "print(test)"
   ]
  },
  {
   "cell_type": "code",
   "execution_count": 10,
   "id": "5749170e",
   "metadata": {},
   "outputs": [
    {
     "name": "stdout",
     "output_type": "stream",
     "text": [
      "[8, 16]\n",
      "[16, 9]\n"
     ]
    }
   ],
   "source": [
    "from itertools import starmap\n",
    "\n",
    "l1 =list(itertools.starmap(pow, [(2,3),(4,2)] ))\n",
    "\n",
    "print(l1)\n",
    "\n",
    "l2 = list(map(pow, (2,3),(4,2) ))\n",
    "\n",
    "print(l2)"
   ]
  },
  {
   "cell_type": "code",
   "execution_count": 11,
   "id": "4a8eaeff",
   "metadata": {},
   "outputs": [
    {
     "data": {
      "text/plain": [
       "'4'"
      ]
     },
     "execution_count": 11,
     "metadata": {},
     "output_type": "execute_result"
    }
   ],
   "source": [
    "word = \"4\"\n",
    "\n",
    "newWord = word.strip(\"+-.\")\n",
    "\n",
    "newWord"
   ]
  },
  {
   "cell_type": "code",
   "execution_count": 178,
   "id": "b882a4d0",
   "metadata": {},
   "outputs": [
    {
     "data": {
      "text/plain": [
       "True"
      ]
     },
     "execution_count": 178,
     "metadata": {},
     "output_type": "execute_result"
    }
   ],
   "source": [
    "import re\n",
    "word = \"41.0000\"\n",
    "x = re.search(r\"^[-+]?[0-9]*\\.{1}[0-9]+\", word)\n",
    "\n",
    "bool(x)"
   ]
  },
  {
   "cell_type": "code",
   "execution_count": 14,
   "id": "16289548",
   "metadata": {},
   "outputs": [
    {
     "name": "stdout",
     "output_type": "stream",
     "text": [
      "['100', '000', '000', '000']\n"
     ]
    }
   ],
   "source": [
    "import re\n",
    "regex_pattern = r\"[,\\.]\"\n",
    "\n",
    "\n",
    "print((re.split(regex_pattern,\"100,000,000.000\")))"
   ]
  },
  {
   "cell_type": "code",
   "execution_count": 33,
   "id": "7426dc44",
   "metadata": {},
   "outputs": [
    {
     "name": "stdout",
     "output_type": "stream",
     "text": [
      "<re.Match object; span=(0, 23), match='username@hackerrank.com'>\n",
      "('username', 'hackerrank', 'com')\n",
      "True\n",
      "username\n"
     ]
    }
   ],
   "source": [
    "import re\n",
    "\n",
    "#username@hackerrank.com\n",
    "#u@hackerrank.com\n",
    "\n",
    "m = re.match(r'(\\D+)@(\\w+).{1}(\\w+)', 'username@hackerrank.com')\n",
    "print(m)\n",
    "print(m.groups())\n",
    "print(bool(m))\n",
    "print(m.group(1))"
   ]
  },
  {
   "cell_type": "code",
   "execution_count": 79,
   "id": "e4565d1a",
   "metadata": {},
   "outputs": [
    {
     "name": "stdout",
     "output_type": "stream",
     "text": [
      "<re.Match object; span=(7, 14), match='1234567'>\n",
      "('1234567',)\n",
      "1234567\n"
     ]
    }
   ],
   "source": [
    "#..12345678910111213141516171820212223\n",
    "\n",
    "import re\n",
    "\n",
    "s = \"+-./*-.1234567tfrjtrtrj8910111213141578578gtyjfrysjy16171820212223/*rtyhtehgdrf\"\n",
    "\n",
    "m = re.search(r'(\\d+)' , s)\n",
    "\n",
    "\n",
    "\n",
    "print(m)\n",
    "print(m.groups())\n",
    "print(m.group(1))\n",
    "\n"
   ]
  },
  {
   "cell_type": "code",
   "execution_count": 55,
   "id": "3ae6d4e3",
   "metadata": {},
   "outputs": [
    {
     "name": "stdout",
     "output_type": "stream",
     "text": [
      "['8', '2', '1', '2']\n",
      "<re.Match object; span=(9, 14), match='88888'>\n",
      "(9, 14)\n",
      "88888\n",
      "+-./*-.1288888322245678910111213141516171820212223/*rtyhtehgdrf\n",
      "8\n",
      "None\n"
     ]
    }
   ],
   "source": [
    "#..12345678910111213141516171820212223\n",
    "\n",
    "import re\n",
    "\n",
    "s = \"+-./*-.1288888322245678910111213141516171820212223/*rtyhtehgdrf\"\n",
    "\n",
    "all = re.findall(r'(\\d)\\1+' , s)\n",
    "\n",
    "search = re.search(r'(\\d)\\1+' , s)\n",
    "\n",
    "match = re.match(r'(\\d)+' , s)\n",
    "\n",
    "\n",
    "\n",
    "print(all)\n",
    "print(search)\n",
    "print(search.span())\n",
    "print(search.group())\n",
    "print(search.string)\n",
    "print(search.group(1))\n",
    "\n",
    "print(match)\n",
    "\n",
    "\n",
    "\n"
   ]
  },
  {
   "cell_type": "code",
   "execution_count": 2,
   "id": "cd7ba64b",
   "metadata": {},
   "outputs": [
    {
     "name": "stdout",
     "output_type": "stream",
     "text": [
      "2\n",
      "<re.Match object; span=(11, 14), match='222'>\n"
     ]
    }
   ],
   "source": [
    "import re\n",
    "\n",
    "s = \"+-./*-.678922210111213141516171820212223/*rtyhtehgdrf\"\n",
    "\n",
    "expression = r\"([a-zA-Z0-9])\\1+\"\n",
    "\n",
    "m = re.search(expression,s)\n",
    "if m:\n",
    "    print(m.group(1))\n",
    "else:\n",
    "    print(-1)\n",
    "    \n",
    "print(m)"
   ]
  },
  {
   "cell_type": "code",
   "execution_count": 3,
   "id": "a3746abd",
   "metadata": {},
   "outputs": [
    {
     "data": {
      "text/plain": [
       "<re.Match object; span=(1, 3), match='he'>"
      ]
     },
     "execution_count": 3,
     "metadata": {},
     "output_type": "execute_result"
    }
   ],
   "source": [
    "s= ' he ll+o-'\n",
    "\n",
    "d = re.search(r'\\w+',s)\n",
    "d"
   ]
  },
  {
   "cell_type": "code",
   "execution_count": 4,
   "id": "c81aaf8e",
   "metadata": {},
   "outputs": [
    {
     "data": {
      "text/plain": [
       "['ee', 'Ioo', 'Oeo', 'eeeee']"
      ]
     },
     "execution_count": 4,
     "metadata": {},
     "output_type": "execute_result"
    }
   ],
   "source": [
    "import re\n",
    "pat1 = r'(?<=[QWRTYPSDFGHJKLZXCVBNM]{1})'\n",
    "pat2 = '(?=[QWRTYPSDFGHJKLZXCVBNM]{1})'\n",
    "mid  = \"([AEIOUaeiou]{2,})\"\n",
    "\n",
    "\n",
    "\n",
    "# pat1 = r\"(?<=[qwrtypsdfghjklzxcvbnm])\"\n",
    "# pat2 = '(?=[qwrtypsdfghjklzxcvbnm])'\n",
    "# mid  = \"([aeiou]{2,})\"\n",
    "\n",
    "\n",
    "\n",
    "\n",
    "\n",
    "experssion = pat1+mid+pat2\n",
    "\n",
    "s = 'rabcdeefgyYhFjkIoomnpOeorteeeeet'\n",
    "\n",
    "m = re.findall(experssion,s.strip(),re.IGNORECASE)\n",
    "\n",
    "m"
   ]
  },
  {
   "cell_type": "code",
   "execution_count": 6,
   "id": "b28ff85e",
   "metadata": {},
   "outputs": [
    {
     "data": {
      "text/plain": [
       "<re.Match object; span=(0, 2), match='aa'>"
      ]
     },
     "execution_count": 6,
     "metadata": {},
     "output_type": "execute_result"
    }
   ],
   "source": [
    "S = \"aaadaa\"\n",
    "K=\"aa\"\n",
    "\n",
    "\n",
    "match = re.search(K,S)\n",
    "match"
   ]
  },
  {
   "cell_type": "code",
   "execution_count": 40,
   "id": "d0bbafd4",
   "metadata": {},
   "outputs": [
    {
     "data": {
      "text/plain": [
       "['foo', 'foo']"
      ]
     },
     "execution_count": 40,
     "metadata": {},
     "output_type": "execute_result"
    }
   ],
   "source": [
    "import re\n",
    "\n",
    "s= \"foo1  boo  foo2 goo\\n\"\n",
    "\n",
    "p=r'(foo)+?'\n",
    "\n",
    "\n",
    "match = re.findall(p,s)\n",
    "\n",
    "match"
   ]
  },
  {
   "cell_type": "code",
   "execution_count": 41,
   "id": "508bf5e8",
   "metadata": {},
   "outputs": [
    {
     "data": {
      "text/plain": [
       "['', 'two', 'words']"
      ]
     },
     "execution_count": 41,
     "metadata": {},
     "output_type": "execute_result"
    }
   ],
   "source": [
    "so = re.findall(r'^|\\w+', 'two words') \n",
    "\n",
    "so"
   ]
  },
  {
   "cell_type": "code",
   "execution_count": 67,
   "id": "ba161d47",
   "metadata": {},
   "outputs": [
    {
     "name": "stdout",
     "output_type": "stream",
     "text": [
      "<re.Match object; span=(1, 1), match=''>\n",
      "1\n",
      "4\n",
      "<callable_iterator object at 0x000001D96EC0E0B0>\n",
      "(1 , 2)\n",
      "(2 , 3)\n",
      "(5 , 6)\n",
      "(10 , 11)\n",
      "(11 , 12)\n",
      "(12 , 13)\n",
      "(13 , 14)\n",
      "(26 , 27)\n",
      "(27 , 28)\n",
      "(28 , 29)\n"
     ]
    }
   ],
   "source": [
    "#import re\n",
    "s = \"wkkkskkdfjkkkkkjdsfhhhhdsfkkkk\"\n",
    "\n",
    "pat = r'(?=(kk))'\n",
    "\n",
    "match = re.search(pat, s)\n",
    "match2= re.finditer(pat, s)\n",
    "\n",
    "\n",
    "print(match)\n",
    "print(match.start(1))\n",
    "print(match.end(1)+1)\n",
    "\n",
    "print(match2)\n",
    "for i in match2:\n",
    "    print(\"({} , {})\".format(i.start(1) , i.end(1)-1 ))"
   ]
  },
  {
   "cell_type": "code",
   "execution_count": 2,
   "id": "b883a7b4",
   "metadata": {},
   "outputs": [
    {
     "name": "stdout",
     "output_type": "stream",
     "text": [
      "Test 1\n",
      "=N\\]#9#J\n",
      "Test 1\n"
     ]
    }
   ],
   "source": [
    "s = 'Test 1' #input().strip()\n",
    "\n",
    "k = 'c' #input(\"enter a charecter to encrypt the text\").strip()\n",
    "\n",
    "def encrypt(s,k):\n",
    "    encrypted=\"\"\n",
    "    for i in s:\n",
    "        \n",
    "        result = ord(i)+ord(k)\n",
    "\n",
    "        if result > 122:\n",
    "            result = result - 122\n",
    "        if result < 48: #add a special char #\n",
    "            encrypted = encrypted+'#'\n",
    "            result = result + 48 \n",
    "            \n",
    "        encrypted = encrypted+chr(result)\n",
    "    return (encrypted)\n",
    "puzzle =  encrypt(s,k)\n",
    "print(s)\n",
    "print(puzzle)\n",
    "def decrypt(puzzle,k):\n",
    "    \n",
    "    decrypt=\"\"\n",
    "    specialChar = False\n",
    "      \n",
    "    for i in puzzle:      \n",
    "        if ord(i) < 48:\n",
    "            specialChar = True\n",
    "            continue;\n",
    "        else:\n",
    "            if(specialChar):\n",
    "                result = ord(i)-48+122-ord(k)\n",
    "                decrypt = decrypt+chr(result)\n",
    "                specialChar = False                \n",
    "            else:\n",
    "                result = ord(i)+122-ord(k)\n",
    "                decrypt = decrypt+chr(result)\n",
    "\n",
    "    return decrypt\n",
    "\n",
    "unpuzzle = decrypt(puzzle,k)\n",
    "print(unpuzzle)       \n",
    "    "
   ]
  },
  {
   "cell_type": "code",
   "execution_count": null,
   "id": "ab6904d5",
   "metadata": {},
   "outputs": [],
   "source": [
    "names =  [\"Test\", \"Bill\", \"Alica\", \"Bob\", \"Alica\", \"Test\"] \n",
    "res = list()\n",
    "res2=[]\n",
    "counter = 1;\n",
    "for name in names:\n",
    "    res.append(filter(lambda x: x==name ,names[counter:]))\n",
    "    #res2.append(list(map(lambda x: if x!=\"\" ,(filter(lambda x: x==name ,names[1:])))\n",
    "    counter= counter +1\n",
    "    \n",
    "res2.append(list(filter(lambda x: x!=\"\" , res)))\n",
    "\n",
    "print(res)\n",
    "\n",
    "for x in res2:\n",
    "    print(x)"
   ]
  },
  {
   "cell_type": "code",
   "execution_count": 1,
   "id": "37ca53e5",
   "metadata": {},
   "outputs": [
    {
     "data": {
      "text/plain": [
       "[['Test'], ['Bill'], ['Alica', 'Alica'], ['Bob'], ['Alica', 'Alica'], ['Test']]"
      ]
     },
     "execution_count": 1,
     "metadata": {},
     "output_type": "execute_result"
    }
   ],
   "source": [
    "import re\n",
    "names =  [\"Test\", \"Bill\", \"Alica\", \"Bob\", \"Alica\", \"Test\"] \n",
    "\n",
    "les = []\n",
    "for name in names:\n",
    "    \n",
    "    les.append(list(filter(lambda x: x==name ,names[1:])))\n",
    "\n",
    "les\n",
    "\n"
   ]
  },
  {
   "cell_type": "code",
   "execution_count": 11,
   "id": "195db9c1",
   "metadata": {},
   "outputs": [
    {
     "data": {
      "text/plain": [
       "3"
      ]
     },
     "execution_count": 11,
     "metadata": {},
     "output_type": "execute_result"
    }
   ],
   "source": [
    "import re\n",
    "string = \"ABCDCDCCDC\"\n",
    "sub = \"CDC\"\n",
    "\n",
    "pos = 0\n",
    "\n",
    "count = 0\n",
    "while True:\n",
    "    if(string.find(sub,pos) >= 0):\n",
    "        count = count+1\n",
    "        pos = string.find(sub,pos) + 1\n",
    "    else:\n",
    "        break\n",
    "        \n",
    "count\n",
    "# print(string.find(sub))\n",
    "\n",
    "# print(string.find(sub,3))\n",
    "\n",
    "# print(string.find(sub,5))"
   ]
  },
  {
   "cell_type": "code",
   "execution_count": 9,
   "id": "42bb7052",
   "metadata": {},
   "outputs": [
    {
     "name": "stdout",
     "output_type": "stream",
     "text": [
      "True\n",
      "True\n"
     ]
    }
   ],
   "source": [
    "if (1):\n",
    "    print(True)\n",
    "if(-5):\n",
    "    print (True)"
   ]
  },
  {
   "cell_type": "code",
   "execution_count": 18,
   "id": "4dde73d4",
   "metadata": {},
   "outputs": [
    {
     "data": {
      "text/plain": [
       "1"
      ]
     },
     "execution_count": 18,
     "metadata": {},
     "output_type": "execute_result"
    }
   ],
   "source": [
    "import re\n",
    "string = \"ABCDCDC\"\n",
    "sub = \"CDC\"\n",
    "\n",
    "pos = 0\n",
    "\n",
    "string.count(sub)"
   ]
  },
  {
   "cell_type": "code",
   "execution_count": 40,
   "id": "e3014d50",
   "metadata": {},
   "outputs": [
    {
     "name": "stdout",
     "output_type": "stream",
     "text": [
      "bscnksbcjscksbcjksbc\n",
      "kjdscsbdcbsdkjbcsdjc\n",
      "bsdjkcbsdkjbckjdsbjk\n",
      "sd\n"
     ]
    }
   ],
   "source": [
    "s = \"bscnksbcjscksbcjksbckjdscsbdcbsdkjbcsdjcbsdjkcbsdkjbckjdsbjksd\"\n",
    "\n",
    "newS =\"\"\n",
    "for i in range(len(s)):\n",
    "    if(i % 20 ==0 and i!=0 ):\n",
    "        newS = newS+'\\n'+s[i]\n",
    "    else:\n",
    "        newS = newS+s[i]\n",
    "print(newS)"
   ]
  },
  {
   "cell_type": "code",
   "execution_count": 39,
   "id": "0f487056",
   "metadata": {},
   "outputs": [
    {
     "name": "stdout",
     "output_type": "stream",
     "text": [
      "['ABCD', 'EFGH', 'IJKL', 'IMNO', 'QRST', 'UVWX', 'YZ']\n",
      "ABCD\n",
      "EFGH\n",
      "IJKL\n",
      "IMNO\n",
      "QRST\n",
      "UVWX\n",
      "YZ\n"
     ]
    }
   ],
   "source": [
    "import textwrap\n",
    "\n",
    "s = \"ABCDEFGHIJKLIMNOQRSTUVWXYZ\"\n",
    "\n",
    "s1 = textwrap.wrap(s,4)\n",
    "print(s1)\n",
    "\n",
    "s2 = textwrap.fill(s,4)\n",
    "\n",
    "print(s2)\n"
   ]
  },
  {
   "cell_type": "code",
   "execution_count": 1,
   "id": "50af1422",
   "metadata": {},
   "outputs": [
    {
     "data": {
      "text/plain": [
       "{'key1': 'value1', 'key2': 'value2', 'key3': 'value3'}"
      ]
     },
     "execution_count": 1,
     "metadata": {},
     "output_type": "execute_result"
    }
   ],
   "source": [
    "mydictionary = { 'key1' : 'value1' , 'key2': 'value2' , 'key3': 'value3'} \n",
    "mydictionary"
   ]
  },
  {
   "cell_type": "code",
   "execution_count": 2,
   "id": "12afee5f",
   "metadata": {},
   "outputs": [
    {
     "data": {
      "text/plain": [
       "[0, 1, 2, 3, 4, 5, 6, 7, 8, 9]"
      ]
     },
     "execution_count": 2,
     "metadata": {},
     "output_type": "execute_result"
    }
   ],
   "source": [
    "a = list(range(10))\n",
    "a"
   ]
  },
  {
   "cell_type": "code",
   "execution_count": 4,
   "id": "7d9a7e01",
   "metadata": {},
   "outputs": [],
   "source": [
    "del a[::2]\n"
   ]
  },
  {
   "cell_type": "code",
   "execution_count": 5,
   "id": "bc268b77",
   "metadata": {},
   "outputs": [
    {
     "data": {
      "text/plain": [
       "[1, 3, 5, 7, 9]"
      ]
     },
     "execution_count": 5,
     "metadata": {},
     "output_type": "execute_result"
    }
   ],
   "source": [
    "a"
   ]
  },
  {
   "cell_type": "code",
   "execution_count": 6,
   "id": "1ce01a4f",
   "metadata": {},
   "outputs": [
    {
     "data": {
      "text/plain": [
       "[0, 1, 2, 3, 4, 5, 6, 7, 8, 9]"
      ]
     },
     "execution_count": 6,
     "metadata": {},
     "output_type": "execute_result"
    }
   ],
   "source": [
    "b = list(range(10))\n",
    "b"
   ]
  },
  {
   "cell_type": "code",
   "execution_count": 7,
   "id": "17bd19df",
   "metadata": {},
   "outputs": [
    {
     "data": {
      "text/plain": [
       "[1, 2, 4, 5, 7, 8]"
      ]
     },
     "execution_count": 7,
     "metadata": {},
     "output_type": "execute_result"
    }
   ],
   "source": [
    "del b[::3]\n",
    "b"
   ]
  },
  {
   "cell_type": "code",
   "execution_count": 68,
   "id": "b556aeb5",
   "metadata": {},
   "outputs": [
    {
     "name": "stdout",
     "output_type": "stream",
     "text": [
      "name is Test and index is 0\n",
      "name is Test and index is 5\n",
      "name is Test and index is 6\n",
      "name is Alica and index is 2\n",
      "name is Alica and index is 4\n",
      "{'Test': [0, 5, 6], 'Alica': [2, 4]}\n",
      "['Test', 'Bill', 'Alica', 'Bob', 'Alica', 'Test', 'Test']\n"
     ]
    }
   ],
   "source": [
    "names =  [\"Test\", \"Bill\", \"Alica\", \"Bob\", \"Alica\", \"Test\",'Test'] \n",
    "myDict = dict()\n",
    "counts = 0\n",
    "for n in names:\n",
    "    counts =names.count(n)\n",
    "    namePos= 0\n",
    "    if counts > 1:\n",
    "            myDict.setdefault(n,list())\n",
    "            if(len(myDict[n]) > 1):\n",
    "                pass\n",
    "            else:\n",
    "                for i in range(counts):\n",
    "                    namePos = names.index( n, namePos )\n",
    "                    print(\"name is {} and index is {}\".format(n, namePos))\n",
    "                    myDict[n].append(namePos)\n",
    "                    namePos = namePos+1\n",
    "            \n",
    "                \n",
    "\n",
    "print(myDict)\n",
    "print(names)\n",
    "        \n",
    "\n"
   ]
  },
  {
   "cell_type": "code",
   "execution_count": 2,
   "id": "a9d76ff0",
   "metadata": {},
   "outputs": [
    {
     "data": {
      "text/plain": [
       "[1, 2, 3]"
      ]
     },
     "execution_count": 2,
     "metadata": {},
     "output_type": "execute_result"
    }
   ],
   "source": [
    "a = \"1 2 3\"\n",
    "listOfint = list(map(int,a.split(\" \")))\n",
    "listOfint"
   ]
  },
  {
   "cell_type": "code",
   "execution_count": 16,
   "id": "c1944ed2",
   "metadata": {},
   "outputs": [
    {
     "name": "stdout",
     "output_type": "stream",
     "text": [
      "this is list ['m', 'o', 'h', 'a', 'm', 'm', 'a', 'd']\n",
      "this is tuple ('m', 'o', 'h', 'a', 'm', 'm', 'a', 'd')\n",
      "this is set {'a', 'm', 'o', 'h', 'd'}\n"
     ]
    }
   ],
   "source": [
    "l = list(\"mohammad\")\n",
    "t = tuple(\"mohammad\")\n",
    "s = set(\"mohammad\")\n",
    "\n",
    "print(\"this is list {}\".format(l))\n",
    "print(\"this is tuple {}\".format(t))\n",
    "print(\"this is set {}\".format(s))\n",
    "      "
   ]
  }
 ],
 "metadata": {
  "kernelspec": {
   "display_name": "Python 3 (ipykernel)",
   "language": "python",
   "name": "python3"
  },
  "language_info": {
   "codemirror_mode": {
    "name": "ipython",
    "version": 3
   },
   "file_extension": ".py",
   "mimetype": "text/x-python",
   "name": "python",
   "nbconvert_exporter": "python",
   "pygments_lexer": "ipython3",
   "version": "3.10.0"
  }
 },
 "nbformat": 4,
 "nbformat_minor": 5
}
