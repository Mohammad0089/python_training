{
 "cells": [
  {
   "cell_type": "code",
   "execution_count": 1,
   "id": "97fa9d32",
   "metadata": {},
   "outputs": [
    {
     "name": "stdout",
     "output_type": "stream",
     "text": [
      "True\n",
      "False\n",
      "['A', 'B', 'C', 'D']\n",
      "D\n",
      "['A', 'B', 'C', 'D']\n",
      "4\n",
      "D\n",
      "['A', 'B', 'C']\n"
     ]
    }
   ],
   "source": [
    "\"\"\"\n",
    "Stack Data Structure.\n",
    "\"\"\"\n",
    "class Stack():\n",
    "    def __init__(self):\n",
    "        \n",
    "        self.items = []\n",
    "        \n",
    "    def push(self,item):\n",
    "        self.items.append(item)\n",
    "        \n",
    "    def pop(self):\n",
    "        return self.items.pop()\n",
    "        \n",
    "    def peek(self):\n",
    "        return self.items[-1]\n",
    "    \n",
    "    def getLength(self):\n",
    "        return len(self.items)\n",
    "    \n",
    "    def isEmpty(self):\n",
    "        return self.items == list()\n",
    "    \n",
    "    def getStack(self):\n",
    "        return self.items\n",
    "    \n",
    "myStack = Stack()\n",
    "\n",
    "print(myStack.isEmpty())\n",
    "\n",
    "myStack.push('A')\n",
    "myStack.push('B')\n",
    "myStack.push('C')\n",
    "myStack.push('D')\n",
    "\n",
    "print(myStack.isEmpty())\n",
    "print(myStack.getStack())\n",
    "print(myStack.peek())\n",
    "print(myStack.getStack())\n",
    "print(myStack.getLength())\n",
    "print(myStack.pop())\n",
    "print(myStack.getStack())\n",
    "\n"
   ]
  },
  {
   "cell_type": "code",
   "execution_count": 43,
   "id": "1ff25413",
   "metadata": {},
   "outputs": [
    {
     "name": "stdout",
     "output_type": "stream",
     "text": [
      "True\n"
     ]
    }
   ],
   "source": [
    "def is_mathced(string):\n",
    "    if string == \"{}\":\n",
    "        return True\n",
    "    elif string == \"()\":\n",
    "        return True\n",
    "    elif string == \"[]\":\n",
    "        return True\n",
    "    else:\n",
    "        return False\n",
    "\n",
    "\n",
    "\n",
    "def is_paren_balanced(string):\n",
    "    s = Stack()\n",
    "    is_balanced = True\n",
    "    index = 0\n",
    "    while index < len(string) and is_balanced:\n",
    "        if(string[index] in \"({[\"):\n",
    "            s.push(string[index])\n",
    "            index = index + 1\n",
    "        else:\n",
    "            if(s.isEmpty()):\n",
    "                if(index <= len(string) -1 ):\n",
    "                    is_balanced = False\n",
    "                    break\n",
    "            else:\n",
    "                top = s.pop()\n",
    "              \n",
    "                op = top+string[index]\n",
    "                \n",
    "                if is_mathced(op): \n",
    "                    index =  index + 1\n",
    "                    if(index >= len(string)  and not s.isEmpty()):\n",
    "                        is_balanced = False\n",
    "                        break\n",
    "                else:\n",
    "                    is_balanced = False\n",
    "                    break\n",
    "    if(not s.isEmpty() and index == len(string)):\n",
    "        is_balanced = False\n",
    "\n",
    "                \n",
    "    return is_balanced\n",
    "            \n",
    "\n",
    "print(is_paren_balanced(\"{{(){}}}\"))     \n",
    "    "
   ]
  },
  {
   "cell_type": "code",
   "execution_count": 31,
   "id": "92ccf2de",
   "metadata": {},
   "outputs": [
    {
     "data": {
      "text/plain": [
       "8"
      ]
     },
     "execution_count": 31,
     "metadata": {},
     "output_type": "execute_result"
    }
   ],
   "source": [
    "len((\"({()}){}\"))"
   ]
  },
  {
   "cell_type": "code",
   "execution_count": 46,
   "id": "c56d1018",
   "metadata": {},
   "outputs": [
    {
     "name": "stdout",
     "output_type": "stream",
     "text": [
      "True\n",
      "True\n",
      "True\n",
      "True\n",
      "True\n",
      "True\n",
      "True\n"
     ]
    }
   ],
   "source": [
    "print(is_paren_balanced(\"{}\")) \n",
    "print(is_paren_balanced(\"()\")) \n",
    "print(is_paren_balanced(\"[]\")) \n",
    "print(is_paren_balanced(\"(){{()}}\")) \n",
    "print(is_paren_balanced(\"{()[({})()]}\")) \n",
    "print(is_paren_balanced(\"{()()}\"))\n",
    "print(is_paren_balanced(\"{()()}[][]\"))\n"
   ]
  },
  {
   "cell_type": "code",
   "execution_count": 47,
   "id": "a03ba6cc",
   "metadata": {},
   "outputs": [
    {
     "name": "stdout",
     "output_type": "stream",
     "text": [
      "False\n",
      "False\n",
      "False\n",
      "False\n",
      "False\n",
      "False\n",
      "False\n"
     ]
    }
   ],
   "source": [
    "print(is_paren_balanced(\"({)}\")) \n",
    "print(is_paren_balanced(\"{}(\")) \n",
    "print(is_paren_balanced(\"{}()}\"))\n",
    "print(is_paren_balanced(\"{(\"))\n",
    "print(is_paren_balanced(\"{({}})}\"))\n",
    "print(is_paren_balanced(\"{{}})\")) \n",
    "print(is_paren_balanced(\"({{}}\")) "
   ]
  },
  {
   "cell_type": "code",
   "execution_count": null,
   "id": "9e415e28",
   "metadata": {},
   "outputs": [],
   "source": []
  }
 ],
 "metadata": {
  "kernelspec": {
   "display_name": "Python 3 (ipykernel)",
   "language": "python",
   "name": "python3"
  },
  "language_info": {
   "codemirror_mode": {
    "name": "ipython",
    "version": 3
   },
   "file_extension": ".py",
   "mimetype": "text/x-python",
   "name": "python",
   "nbconvert_exporter": "python",
   "pygments_lexer": "ipython3",
   "version": "3.10.0"
  }
 },
 "nbformat": 4,
 "nbformat_minor": 5
}
