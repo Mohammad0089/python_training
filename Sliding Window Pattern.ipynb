{
 "cells": [
  {
   "cell_type": "code",
   "execution_count": 8,
   "id": "d8bf74d6",
   "metadata": {},
   "outputs": [
    {
     "name": "stdout",
     "output_type": "stream",
     "text": [
      "[2.2, 2.8, 2.4, 3.6, 2.8]\n",
      "Big_O for this algo is N*K\n"
     ]
    }
   ],
   "source": [
    "#Given an array, find the average of all subarrays of ‘K’ contiguous elements in it.\n",
    "\n",
    "arr = [1, 3, 2, 6, -1, 4, 1, 8, 2]\n",
    "k=5\n",
    "avgs = []\n",
    "for i in range(len(arr)-k+1):\n",
    "    _sum = 0.0\n",
    "    for j in range(i, i+k):\n",
    "        _sum = _sum+arr[j]\n",
    "    avgs.append(_sum/k)\n",
    "        \n",
    "print(avgs)\n",
    "\n",
    "print(\"Big_O for this algo is N*K\")\n",
    "\n"
   ]
  },
  {
   "cell_type": "code",
   "execution_count": null,
   "id": "cd625791",
   "metadata": {},
   "outputs": [],
   "source": [
    "#sliding window\n",
    "\n",
    "arr = [1, 3, 2, 6, -1, 4, 1, 8, 2]\n",
    "k=5\n",
    "\n",
    "startWindow = 0\n",
    "sum=0\n",
    "res = []\n",
    "\n",
    "for endWindow in range(len(arr)):  \n",
    "    sum = sum + arr[endWindow]\n",
    "    if endWindow >= k-1:\n",
    "        res.append(sum/k)\n",
    "        sum = sum - arr[startWindow]\n",
    "        startWindow = startWindow + 1\n",
    "print(res)\n",
    "\n",
    "print(\"Big_O for this algo is N\")\n",
    "    "
   ]
  },
  {
   "cell_type": "code",
   "execution_count": null,
   "id": "579b658c",
   "metadata": {},
   "outputs": [],
   "source": []
  },
  {
   "cell_type": "code",
   "execution_count": null,
   "id": "2b4f0ba2",
   "metadata": {},
   "outputs": [],
   "source": []
  }
 ],
 "metadata": {
  "kernelspec": {
   "display_name": "Python 3 (ipykernel)",
   "language": "python",
   "name": "python3"
  },
  "language_info": {
   "codemirror_mode": {
    "name": "ipython",
    "version": 3
   },
   "file_extension": ".py",
   "mimetype": "text/x-python",
   "name": "python",
   "nbconvert_exporter": "python",
   "pygments_lexer": "ipython3",
   "version": "3.10.0"
  }
 },
 "nbformat": 4,
 "nbformat_minor": 5
}
